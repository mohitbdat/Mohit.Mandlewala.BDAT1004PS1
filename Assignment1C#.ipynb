{
 "cells": [
  {
   "cell_type": "markdown",
   "metadata": {},
   "source": [
    "Name: Mohit Rakesh Mandlewala\n",
    "Student number: 200504622"
   ]
  },
  {
   "cell_type": "markdown",
   "metadata": {},
   "source": [
    "Question 1\n",
    "\n",
    "What data type is each of the following?\n",
    "5\n",
    "5.0\n",
    "5 > 1\n",
    "'5'\n",
    "5 * 2\n",
    "'5' * 2\n",
    "'5' + '2'\n",
    "5 / 2\n",
    "5 % 2\n",
    "{5, 2, 1}\n",
    "5 == 3\n",
    "Pi(the number)"
   ]
  },
  {
   "cell_type": "code",
   "execution_count": 2,
   "metadata": {},
   "outputs": [
    {
     "name": "stdout",
     "output_type": "stream",
     "text": [
      "System.Int32\n",
      "System.Double\n",
      "System.Boolean\n",
      "System.Char\n",
      "System.Int32\n",
      "System.Int32\n",
      "System.Int32\n",
      "System.Int32\n",
      "System.Int32\n",
      "System.Boolean\n",
      "System.Double\n"
     ]
    }
   ],
   "source": [
    "using System;\n",
    "Console.WriteLine(5.GetType());\n",
    "Console.WriteLine((5.0).GetType());\n",
    "Console.WriteLine((5 > 1).GetType());\n",
    "Console.WriteLine(('5').GetType());\n",
    "Console.WriteLine((5 * 2).GetType());\n",
    "Console.WriteLine(('5' * 2).GetType());\n",
    "Console.WriteLine(('5' + '2').GetType());\n",
    "Console.WriteLine((5 / 2).GetType());\n",
    "Console.WriteLine((5 % 2).GetType());\n",
    "Console.WriteLine((5 == 3).GetType());\n",
    "Console.WriteLine((3.14).GetType());"
   ]
  },
  {
   "cell_type": "markdown",
   "metadata": {},
   "source": [
    "Answers:\n",
    "5 - Integer\n",
    "5.0 - Double\n",
    "5 > 1 - Boolean\n",
    "'5' - Char\n",
    "5 * 2 - Integer\n",
    "'5' * 2 - Integer (because '5' gets converted to ascii value 53)\n",
    "'5' + '2' - Integer\n",
    "5 / 2 - Integer\n",
    "5 % 2 - Integer\n",
    "{5, 2, 1} - Array of Integers\n",
    "5 == 3 - Boolean\n",
    "Pi(the number) - Double"
   ]
  },
  {
   "cell_type": "markdown",
   "metadata": {},
   "source": [
    "Question 2(a)\n",
    "\n",
    "How many letters are there in 'Supercalifragilisticexpialidocious'?"
   ]
  },
  {
   "cell_type": "code",
   "execution_count": 3,
   "metadata": {},
   "outputs": [
    {
     "name": "stdout",
     "output_type": "stream",
     "text": [
      "34\r\n"
     ]
    }
   ],
   "source": [
    "int count = 0;\n",
    "string str = \"Supercalifragilisticexpialidocious\";\n",
    "foreach(char ch in str)\n",
    "{\n",
    "    ++count;\n",
    "}\n",
    "Console.WriteLine(count);"
   ]
  },
  {
   "cell_type": "markdown",
   "metadata": {},
   "source": [
    "Question 2(b)\n",
    "\n",
    "Does 'Supercalifragilisticexpialidocious' contain 'ice' as a substring?"
   ]
  },
  {
   "cell_type": "code",
   "execution_count": 4,
   "metadata": {},
   "outputs": [
    {
     "name": "stdout",
     "output_type": "stream",
     "text": [
      "Yes\r\n"
     ]
    }
   ],
   "source": [
    "if(str.Contains(\"ice\"))\n",
    "    Console.WriteLine(\"Yes\");\n",
    "else\n",
    "    Console.WriteLine(\"No\");"
   ]
  },
  {
   "cell_type": "markdown",
   "metadata": {},
   "source": [
    "Question 2(c)\n",
    "\n",
    "Which of the following words is the longest:\n",
    "Supercalifragilisticexpialidocious, Honorificabilitudinitatibus, or\n",
    "Bababadalgharaghtakamminarronnkonn?"
   ]
  },
  {
   "cell_type": "code",
   "execution_count": 5,
   "metadata": {},
   "outputs": [
    {
     "name": "stdout",
     "output_type": "stream",
     "text": [
      "Bababadalgharaghtakamminarronnkonn is longest\r\n"
     ]
    }
   ],
   "source": [
    "string str1 = \"Supercalifragilisticexpialidocious\";\n",
    "string str2 = \"Honorificabilitudinitatibus\";\n",
    "string str3 = \"Bababadalgharaghtakamminarronnkonn\";\n",
    "\n",
    "int count1 = str1.Length;\n",
    "int count2 = str2.Length;\n",
    "int count3 = str3.Length;\n",
    "\n",
    "if(count1 > count2)\n",
    "{\n",
    "    if(count1 > count3)\n",
    "        Console.WriteLine(str1 + \" is longest\");\n",
    "    else\n",
    "        Console.WriteLine(str3 + \" is longest\");\n",
    "}\n",
    "\n",
    "else\n",
    "{\n",
    "    if(count2 > count3)\n",
    "        Console.WriteLine(str2 + \" is longest\");\n",
    "    else\n",
    "        Console.WriteLine(str3 + \" is longest\");\n",
    "}"
   ]
  },
  {
   "cell_type": "markdown",
   "metadata": {},
   "source": [
    "Question 2(d)\n",
    "\n",
    "Which composer comes first in the dictionary: 'Berlioz', 'Borodin', 'Brian',\n",
    "'Bartok', 'Bellini', 'Buxtehude', 'Bernstein'. Which one comes last?"
   ]
  },
  {
   "cell_type": "code",
   "execution_count": 6,
   "metadata": {},
   "outputs": [
    {
     "name": "stdout",
     "output_type": "stream",
     "text": [
      "First to come: Bartok\n",
      "Last to come: Buxtehude\n"
     ]
    }
   ],
   "source": [
    "using System.Collections.Generic;\n",
    "var slist = new SortedSet<String>();\n",
    "\n",
    "slist.Add(\"Berlioz\");\n",
    "slist.Add(\"Borodin\");\n",
    "slist.Add(\"Brian\");\n",
    "slist.Add(\"Bartok\");\n",
    "slist.Add(\"Bellini\");\n",
    "slist.Add(\"Buxtehude\");\n",
    "slist.Add(\"Bernstein\");\n",
    "\n",
    "int counter = 0;\n",
    "\n",
    "foreach(string s in slist)\n",
    "{\n",
    "    ++counter;\n",
    "    if(counter == 1) \n",
    "        Console.WriteLine(\"First to come: \" + s);\n",
    "    if(counter == 7) \n",
    "        Console.WriteLine(\"Last to come: \" + s);\n",
    "}"
   ]
  },
  {
   "cell_type": "markdown",
   "metadata": {},
   "source": [
    "Question 3:\n",
    "\n",
    "Implement function triangleArea(a,b,c) that takes as input the lengths of the 3\n",
    "sides of a triangle and returns the area of the triangle. By Heron's formula, the area\n",
    "of a triangle with side lengths a, b, and c is\n",
    "s(s - a)(s -b)(s -c), where\n",
    "s = (a +b + c) /2.\n",
    "-> triangleArea(2,2,2)\n",
    "1.7320508075688772\n",
    "\n",
    "\n",
    "We use Sqrt() function from Math library to find square root.\n",
    "Documentation: https://docs.microsoft.com/en-us/dotnet/api/system.math.sqrt?view=net-6.0"
   ]
  },
  {
   "cell_type": "code",
   "execution_count": 7,
   "metadata": {},
   "outputs": [
    {
     "name": "stdout",
     "output_type": "stream",
     "text": [
      "1.7320508075688772\r\n"
     ]
    }
   ],
   "source": [
    "public double triangleArea(double a, double b, double c)\n",
    "{\n",
    "    double s = (a + b + c)/2;\n",
    "    \n",
    "    double area = s * (s-a);\n",
    "    area *= (s-b);\n",
    "    area *= (s-c);\n",
    "    \n",
    "    return Math.Sqrt(area);\n",
    "    \n",
    "    //return area;\n",
    "}\n",
    "\n",
    "Console.WriteLine(triangleArea(2.0,2.0,2.0));"
   ]
  },
  {
   "cell_type": "markdown",
   "metadata": {},
   "source": [
    "Question 4:\n",
    "\n",
    "Write a program in C# Sharp to separate odd and even integers in separate arrays.\n",
    "Go to the editor\n",
    "Test Data :\n",
    "Input the number of elements to be stored in the array :5\n",
    "Input 5 elements in the array :\n",
    "element - 0 : 25\n",
    "element - 1 : 47\n",
    "element - 2 : 42\n",
    "element - 3 : 56\n",
    "element - 4 : 32\n",
    "Expected Output:\n",
    "The Even elements are:\n",
    "42 56 32\n",
    "The Odd elements are :\n",
    "25 47"
   ]
  },
  {
   "cell_type": "code",
   "execution_count": 8,
   "metadata": {},
   "outputs": [
    {
     "name": "stdout",
     "output_type": "stream",
     "text": [
      "The Even elements are: \n",
      "42\n",
      "56\n",
      "32\n",
      "The Odd elements are: \n",
      "25\n",
      "47\n"
     ]
    }
   ],
   "source": [
    "int[] arr = new int[5]{25, 47, 42, 56, 32};\n",
    "\n",
    "//Creating arrays for even and odd elements\n",
    "int[] even = new int[5];\n",
    "int[] odd = new int[5];\n",
    "\n",
    "//indices counter for both arrays\n",
    "int e_index=0;\n",
    "int o_index=0;\n",
    "\n",
    "foreach(int i in arr)\n",
    "{\n",
    "    if(i % 2 == 0)\n",
    "        even[e_index++] = i;\n",
    "    else\n",
    "        odd[o_index++] = i;\n",
    "}\n",
    "\n",
    "Console.WriteLine(\"The Even elements are: \");\n",
    "for(int i=0; i<e_index; i++)\n",
    "{\n",
    "    Console.WriteLine(even[i]);\n",
    "}\n",
    "\n",
    "Console.WriteLine(\"The Odd elements are: \");\n",
    "for(int i=0; i<o_index; i++)\n",
    "{\n",
    "    Console.WriteLine(odd[i]);\n",
    "}"
   ]
  },
  {
   "cell_type": "markdown",
   "metadata": {},
   "source": [
    "Question 5:\n",
    "\n",
    "a. Write a function inside(x,y,x1,y1,x2,y2) that returns True or False depending on whether the point (x,y) lies in the rectangle with lower left corner (x1,y1) and upper right corner (x2,y2).\n",
    "-> inside(1,1,0,0,2,3)\n",
    "True\n",
    "-> inside(-1,-1,0,0,2,3)\n",
    "False\n",
    "\n",
    "b. Use function inside() from part a. to write an expression that tests whether the point (1,1) lies in both of the following rectangles: one with lower left corner (0.3, 0.5) and upper right corner (1.1, 0.7) and the other with lower left corner (0.5, 0.2) and upper right corner (1.1, 2)."
   ]
  },
  {
   "cell_type": "code",
   "execution_count": 9,
   "metadata": {},
   "outputs": [
    {
     "name": "stdout",
     "output_type": "stream",
     "text": [
      "False\r\n"
     ]
    }
   ],
   "source": [
    "public Boolean inside(double x, double y, double x1, double y1, double x2, double y2)\n",
    "{\n",
    "    if(x >= x1 && y >= y1 && x <= x2 && y <= y2)\n",
    "    {\n",
    "        return true;\n",
    "    }\n",
    "    else\n",
    "    {\n",
    "        return false;\n",
    "    }\n",
    "}\n",
    "\n",
    "Console.WriteLine(inside(1,1,0.3,0.5,1.1,0.7) && inside(1,1,0.5,0.2,1.1,2));"
   ]
  }
 ],
 "metadata": {
  "kernelspec": {
   "display_name": ".NET (C#)",
   "language": "C#",
   "name": ".net-csharp"
  },
  "language_info": {
   "file_extension": ".cs",
   "mimetype": "text/x-csharp",
   "name": "C#",
   "pygments_lexer": "csharp",
   "version": "8.0"
  }
 },
 "nbformat": 4,
 "nbformat_minor": 4
}
