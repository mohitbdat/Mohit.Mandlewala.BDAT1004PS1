{
 "cells": [
  {
   "cell_type": "markdown",
   "metadata": {},
   "source": [
    "Name: Mohit Rakesh Mandlewala<br>\n",
    "Student number: 200504622"
   ]
  },
  {
   "cell_type": "markdown",
   "metadata": {},
   "source": [
    "Question 1<br>\n",
    "\n",
    "What data type is each of the following?<br>\n",
    "5<br>\n",
    "5.0<br>\n",
    "5 > 1<br>\n",
    "'5'<br>\n",
    "5 * 2<br>\n",
    "'5' * 2<br>\n",
    "'5' + '2'<br>\n",
    "5 / 2<br>\n",
    "5 % 2<br>\n",
    "{5, 2, 1}<br>\n",
    "5 == 3<br>\n",
    "Pi(the number)<br>"
   ]
  },
  {
   "cell_type": "code",
   "execution_count": 1,
   "metadata": {},
   "outputs": [
    {
     "data": {
      "text/html": [
       "\r\n",
       "<div>\r\n",
       "    <div id='dotnet-interactive-this-cell-1824.Microsoft.DotNet.Interactive.Http.HttpPort' style='display: none'>\r\n",
       "        The below script needs to be able to find the current output cell; this is an easy method to get it.\r\n",
       "    </div>\r\n",
       "    <script type='text/javascript'>\r\n",
       "async function probeAddresses(probingAddresses) {\r\n",
       "    function timeout(ms, promise) {\r\n",
       "        return new Promise(function (resolve, reject) {\r\n",
       "            setTimeout(function () {\r\n",
       "                reject(new Error('timeout'))\r\n",
       "            }, ms)\r\n",
       "            promise.then(resolve, reject)\r\n",
       "        })\r\n",
       "    }\r\n",
       "\r\n",
       "    if (Array.isArray(probingAddresses)) {\r\n",
       "        for (let i = 0; i < probingAddresses.length; i++) {\r\n",
       "\r\n",
       "            let rootUrl = probingAddresses[i];\r\n",
       "\r\n",
       "            if (!rootUrl.endsWith('/')) {\r\n",
       "                rootUrl = `${rootUrl}/`;\r\n",
       "            }\r\n",
       "\r\n",
       "            try {\r\n",
       "                let response = await timeout(1000, fetch(`${rootUrl}discovery`, {\r\n",
       "                    method: 'POST',\r\n",
       "                    cache: 'no-cache',\r\n",
       "                    mode: 'cors',\r\n",
       "                    timeout: 1000,\r\n",
       "                    headers: {\r\n",
       "                        'Content-Type': 'text/plain'\r\n",
       "                    },\r\n",
       "                    body: probingAddresses[i]\r\n",
       "                }));\r\n",
       "\r\n",
       "                if (response.status == 200) {\r\n",
       "                    return rootUrl;\r\n",
       "                }\r\n",
       "            }\r\n",
       "            catch (e) { }\r\n",
       "        }\r\n",
       "    }\r\n",
       "}\r\n",
       "\r\n",
       "function loadDotnetInteractiveApi() {\r\n",
       "    probeAddresses([\"http://192.168.216.1:1000/\", \"http://192.168.142.1:1000/\", \"http://10.0.0.71:1000/\", \"http://127.0.0.1:1000/\"])\r\n",
       "        .then((root) => {\r\n",
       "        // use probing to find host url and api resources\r\n",
       "        // load interactive helpers and language services\r\n",
       "        let dotnetInteractiveRequire = require.config({\r\n",
       "        context: '1824.Microsoft.DotNet.Interactive.Http.HttpPort',\r\n",
       "                paths:\r\n",
       "            {\r\n",
       "                'dotnet-interactive': `${root}resources`\r\n",
       "                }\r\n",
       "        }) || require;\r\n",
       "\r\n",
       "            window.dotnetInteractiveRequire = dotnetInteractiveRequire;\r\n",
       "\r\n",
       "            window.configureRequireFromExtension = function(extensionName, extensionCacheBuster) {\r\n",
       "                let paths = {};\r\n",
       "                paths[extensionName] = `${root}extensions/${extensionName}/resources/`;\r\n",
       "                \r\n",
       "                let internalRequire = require.config({\r\n",
       "                    context: extensionCacheBuster,\r\n",
       "                    paths: paths,\r\n",
       "                    urlArgs: `cacheBuster=${extensionCacheBuster}`\r\n",
       "                    }) || require;\r\n",
       "\r\n",
       "                return internalRequire\r\n",
       "            };\r\n",
       "        \r\n",
       "            dotnetInteractiveRequire([\r\n",
       "                    'dotnet-interactive/dotnet-interactive'\r\n",
       "                ],\r\n",
       "                function (dotnet) {\r\n",
       "                    dotnet.init(window);\r\n",
       "                },\r\n",
       "                function (error) {\r\n",
       "                    console.log(error);\r\n",
       "                }\r\n",
       "            );\r\n",
       "        })\r\n",
       "        .catch(error => {console.log(error);});\r\n",
       "    }\r\n",
       "\r\n",
       "// ensure `require` is available globally\r\n",
       "if ((typeof(require) !==  typeof(Function)) || (typeof(require.config) !== typeof(Function))) {\r\n",
       "    let require_script = document.createElement('script');\r\n",
       "    require_script.setAttribute('src', 'https://cdnjs.cloudflare.com/ajax/libs/require.js/2.3.6/require.min.js');\r\n",
       "    require_script.setAttribute('type', 'text/javascript');\r\n",
       "    \r\n",
       "    \r\n",
       "    require_script.onload = function() {\r\n",
       "        loadDotnetInteractiveApi();\r\n",
       "    };\r\n",
       "\r\n",
       "    document.getElementsByTagName('head')[0].appendChild(require_script);\r\n",
       "}\r\n",
       "else {\r\n",
       "    loadDotnetInteractiveApi();\r\n",
       "}\r\n",
       "\r\n",
       "    </script>\r\n",
       "</div>"
      ]
     },
     "metadata": {},
     "output_type": "display_data"
    },
    {
     "name": "stdout",
     "output_type": "stream",
     "text": [
      "System.Int32\n",
      "System.Double\n",
      "System.Boolean\n",
      "System.Char\n",
      "System.Int32\n",
      "System.Int32\n",
      "System.Int32\n",
      "System.Int32\n",
      "System.Int32\n",
      "System.Boolean\n",
      "System.Double\n"
     ]
    }
   ],
   "source": [
    "using System;\n",
    "Console.WriteLine(5.GetType());\n",
    "Console.WriteLine((5.0).GetType());\n",
    "Console.WriteLine((5 > 1).GetType());\n",
    "Console.WriteLine(('5').GetType());\n",
    "Console.WriteLine((5 * 2).GetType());\n",
    "Console.WriteLine(('5' * 2).GetType());\n",
    "Console.WriteLine(('5' + '2').GetType());\n",
    "Console.WriteLine((5 / 2).GetType());\n",
    "Console.WriteLine((5 % 2).GetType());\n",
    "Console.WriteLine((5 == 3).GetType());\n",
    "Console.WriteLine((3.14).GetType());"
   ]
  },
  {
   "cell_type": "markdown",
   "metadata": {},
   "source": [
    "Answers:<br>\n",
    "5 - Integer<br>\n",
    "5.0 - Double<br>\n",
    "5 > 1 - Boolean<br>\n",
    "'5' - Char<br>\n",
    "5 * 2 - Integer<br>\n",
    "'5' * 2 - Integer (because '5' gets converted to ascii value 53)<br>\n",
    "'5' + '2' - Integer<br>\n",
    "5 / 2 - Integer<br>\n",
    "5 % 2 - Integer<br>\n",
    "{5, 2, 1} - Array of Integers<br>\n",
    "5 == 3 - Boolean<br>\n",
    "Pi(the number) - Double<br>"
   ]
  },
  {
   "cell_type": "markdown",
   "metadata": {},
   "source": [
    "Question 2(a)<br>\n",
    "\n",
    "How many letters are there in 'Supercalifragilisticexpialidocious'?<br>"
   ]
  },
  {
   "cell_type": "code",
   "execution_count": 2,
   "metadata": {},
   "outputs": [
    {
     "name": "stdout",
     "output_type": "stream",
     "text": [
      "34\r\n"
     ]
    }
   ],
   "source": [
    "int count = 0;\n",
    "string str = \"Supercalifragilisticexpialidocious\";\n",
    "foreach(char ch in str)\n",
    "{\n",
    "    ++count;\n",
    "}\n",
    "Console.WriteLine(count);"
   ]
  },
  {
   "cell_type": "markdown",
   "metadata": {},
   "source": [
    "Question 2(b)<br>\n",
    "\n",
    "Does 'Supercalifragilisticexpialidocious' contain 'ice' as a substring?<br>"
   ]
  },
  {
   "cell_type": "code",
   "execution_count": 3,
   "metadata": {},
   "outputs": [
    {
     "name": "stdout",
     "output_type": "stream",
     "text": [
      "Yes\r\n"
     ]
    }
   ],
   "source": [
    "if(str.Contains(\"ice\"))\n",
    "    Console.WriteLine(\"Yes\");\n",
    "else\n",
    "    Console.WriteLine(\"No\");"
   ]
  },
  {
   "cell_type": "markdown",
   "metadata": {},
   "source": [
    "Question 2(c)<br>\n",
    "\n",
    "Which of the following words is the longest:<br>\n",
    "Supercalifragilisticexpialidocious, Honorificabilitudinitatibus, or<br>\n",
    "Bababadalgharaghtakamminarronnkonn?<br>"
   ]
  },
  {
   "cell_type": "code",
   "execution_count": 4,
   "metadata": {},
   "outputs": [
    {
     "name": "stdout",
     "output_type": "stream",
     "text": [
      "Bababadalgharaghtakamminarronnkonn is longest\r\n"
     ]
    }
   ],
   "source": [
    "string str1 = \"Supercalifragilisticexpialidocious\";\n",
    "string str2 = \"Honorificabilitudinitatibus\";\n",
    "string str3 = \"Bababadalgharaghtakamminarronnkonn\";\n",
    "\n",
    "int count1 = str1.Length;\n",
    "int count2 = str2.Length;\n",
    "int count3 = str3.Length;\n",
    "\n",
    "if(count1 > count2)\n",
    "{\n",
    "    if(count1 > count3)\n",
    "        Console.WriteLine(str1 + \" is longest\");\n",
    "    else\n",
    "        Console.WriteLine(str3 + \" is longest\");\n",
    "}\n",
    "\n",
    "else\n",
    "{\n",
    "    if(count2 > count3)\n",
    "        Console.WriteLine(str2 + \" is longest\");\n",
    "    else\n",
    "        Console.WriteLine(str3 + \" is longest\");\n",
    "}"
   ]
  },
  {
   "cell_type": "markdown",
   "metadata": {},
   "source": [
    "Question 2(d)<br>\n",
    "\n",
    "Which composer comes first in the dictionary: 'Berlioz', 'Borodin', 'Brian',<br>\n",
    "'Bartok', 'Bellini', 'Buxtehude', 'Bernstein'. Which one comes last?<br>"
   ]
  },
  {
   "cell_type": "code",
   "execution_count": 5,
   "metadata": {},
   "outputs": [
    {
     "name": "stdout",
     "output_type": "stream",
     "text": [
      "First to come: Bartok\n",
      "Last to come: Buxtehude\n"
     ]
    }
   ],
   "source": [
    "using System.Collections.Generic;\n",
    "var slist = new SortedSet<String>();\n",
    "\n",
    "slist.Add(\"Berlioz\");\n",
    "slist.Add(\"Borodin\");\n",
    "slist.Add(\"Brian\");\n",
    "slist.Add(\"Bartok\");\n",
    "slist.Add(\"Bellini\");\n",
    "slist.Add(\"Buxtehude\");\n",
    "slist.Add(\"Bernstein\");\n",
    "\n",
    "int counter = 0;\n",
    "\n",
    "foreach(string s in slist)\n",
    "{\n",
    "    ++counter;\n",
    "    if(counter == 1) \n",
    "        Console.WriteLine(\"First to come: \" + s);\n",
    "    if(counter == 7) \n",
    "        Console.WriteLine(\"Last to come: \" + s);\n",
    "}"
   ]
  },
  {
   "cell_type": "markdown",
   "metadata": {},
   "source": [
    "Question 3:<br>\n",
    "\n",
    "Implement function triangleArea(a,b,c) that takes as input the lengths of the 3<br>\n",
    "sides of a triangle and returns the area of the triangle. By Heron's formula, the area<br>\n",
    "of a triangle with side lengths a, b, and c is<br>\n",
    "s(s - a)(s -b)(s -c), where<br>\n",
    "s = (a +b + c) /2.<br>\n",
    "-> triangleArea(2,2,2)<br>\n",
    "1.7320508075688772<br>\n",
    "\n",
    "\n",
    "We use Sqrt() function from Math library to find square root.<br>\n",
    "Documentation: https://docs.microsoft.com/en-us/dotnet/api/system.math.sqrt?view=net-6.0<br>"
   ]
  },
  {
   "cell_type": "code",
   "execution_count": 6,
   "metadata": {},
   "outputs": [
    {
     "name": "stdout",
     "output_type": "stream",
     "text": [
      "1.7320508075688772\r\n"
     ]
    }
   ],
   "source": [
    "public double triangleArea(double a, double b, double c)\n",
    "{\n",
    "    double s = (a + b + c)/2;\n",
    "    \n",
    "    double area = s * (s-a);\n",
    "    area *= (s-b);\n",
    "    area *= (s-c);\n",
    "    \n",
    "    return Math.Sqrt(area);\n",
    "    \n",
    "    //return area;\n",
    "}\n",
    "\n",
    "Console.WriteLine(triangleArea(2.0,2.0,2.0));"
   ]
  },
  {
   "cell_type": "markdown",
   "metadata": {},
   "source": [
    "Question 4:<br>\n",
    "\n",
    "Write a program in C# Sharp to separate odd and even integers in separate arrays.<br>\n",
    "Go to the editor<br>\n",
    "Test Data :<br>\n",
    "Input the number of elements to be stored in the array :5<br>\n",
    "Input 5 elements in the array :<br>\n",
    "element - 0 : 25<br>\n",
    "element - 1 : 47<br>\n",
    "element - 2 : 42<br>\n",
    "element - 3 : 56<br>\n",
    "element - 4 : 32<br>\n",
    "Expected Output:<br>\n",
    "The Even elements are:<br>\n",
    "42 56 32<br>\n",
    "The Odd elements are :<br>\n",
    "25 47<br>"
   ]
  },
  {
   "cell_type": "code",
   "execution_count": 7,
   "metadata": {},
   "outputs": [
    {
     "name": "stdout",
     "output_type": "stream",
     "text": [
      "The Even elements are: \n",
      "42\n",
      "56\n",
      "32\n",
      "The Odd elements are: \n",
      "25\n",
      "47\n"
     ]
    }
   ],
   "source": [
    "int[] arr = new int[5]{25, 47, 42, 56, 32};\n",
    "\n",
    "//Creating arrays for even and odd elements\n",
    "int[] even = new int[5];\n",
    "int[] odd = new int[5];\n",
    "\n",
    "//indices counter for both arrays\n",
    "int e_index=0;\n",
    "int o_index=0;\n",
    "\n",
    "foreach(int i in arr)\n",
    "{\n",
    "    if(i % 2 == 0)\n",
    "        even[e_index++] = i;\n",
    "    else\n",
    "        odd[o_index++] = i;\n",
    "}\n",
    "\n",
    "Console.WriteLine(\"The Even elements are: \");\n",
    "for(int i=0; i<e_index; i++)\n",
    "{\n",
    "    Console.WriteLine(even[i]);\n",
    "}\n",
    "\n",
    "Console.WriteLine(\"The Odd elements are: \");\n",
    "for(int i=0; i<o_index; i++)\n",
    "{\n",
    "    Console.WriteLine(odd[i]);\n",
    "}"
   ]
  },
  {
   "cell_type": "markdown",
   "metadata": {},
   "source": [
    "Question 5:<br>\n",
    "\n",
    "a. Write a function inside(x,y,x1,y1,x2,y2) that returns True or False depending on whether the point (x,y) lies in the rectangle with lower left corner (x1,y1) and upper right corner (x2,y2).<br>\n",
    "-> inside(1,1,0,0,2,3)<br>\n",
    "True<br>\n",
    "-> inside(-1,-1,0,0,2,3)<br>\n",
    "False<br>\n",
    "\n",
    "b. Use function inside() from part a. to write an expression that tests whether the point (1,1) lies in both of the following rectangles: one with lower left corner (0.3, 0.5) and upper right corner (1.1, 0.7) and the other with lower left corner (0.5, 0.2) and upper right corner (1.1, 2).<br>"
   ]
  },
  {
   "cell_type": "code",
   "execution_count": 8,
   "metadata": {},
   "outputs": [
    {
     "name": "stdout",
     "output_type": "stream",
     "text": [
      "False\r\n"
     ]
    }
   ],
   "source": [
    "public Boolean inside(double x, double y, double x1, double y1, double x2, double y2)\n",
    "{\n",
    "    if(x >= x1 && y >= y1 && x <= x2 && y <= y2)\n",
    "    {\n",
    "        return true;\n",
    "    }\n",
    "    else\n",
    "    {\n",
    "        return false;\n",
    "    }\n",
    "}\n",
    "\n",
    "Console.WriteLine(inside(1,1,0.3,0.5,1.1,0.7) && inside(1,1,0.5,0.2,1.1,2));"
   ]
  }
 ],
 "metadata": {
  "kernelspec": {
   "display_name": ".NET (C#)",
   "language": "C#",
   "name": ".net-csharp"
  },
  "language_info": {
   "file_extension": ".cs",
   "mimetype": "text/x-csharp",
   "name": "C#",
   "pygments_lexer": "csharp",
   "version": "8.0"
  }
 },
 "nbformat": 4,
 "nbformat_minor": 4
}
