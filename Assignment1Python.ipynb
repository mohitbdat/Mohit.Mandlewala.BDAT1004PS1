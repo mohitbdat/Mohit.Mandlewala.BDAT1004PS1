{
 "cells": [
  {
   "cell_type": "markdown",
   "metadata": {},
   "source": [
    "Name: Mohit Rakesh Mandlewala<br>\n",
    "Student number: 200504622<br>"
   ]
  },
  {
   "cell_type": "markdown",
   "metadata": {},
   "source": [
    "Question 6:<br>\n",
    "\n",
    "You can turn a word into pig-Latin using the following two rules (simplified):<br>\n",
    "• If the word starts with a consonant, move that letter to the end and append 'ay'. For example, 'happy' becomes 'appyhay' and 'pencil' becomes 'encilpay'.<br>\n",
    "• If the word starts with a vowel, simply append 'way' to the end of the word. For example, 'enter' becomes 'enterway' and 'other' becomes 'otherway' . For our purposes, there are 5 vowels: a, e, i, o, u (so we count y as a consonant).<br>\n",
    "Write a function pig() that takes a word (i.e., a string) as input and returns its pig-Latin form. Your function should still work if the input word contains upper case characters. Your output should always be lower case however.<br>\n",
    "->pig('happy')<br>\n",
    "'appyhay'<br>\n",
    "-> pig('Enter')<br>\n",
    "'enterway'<br>"
   ]
  },
  {
   "cell_type": "code",
   "execution_count": 1,
   "metadata": {},
   "outputs": [
    {
     "name": "stdout",
     "output_type": "stream",
     "text": [
      "appyhay\n",
      "enterway\n"
     ]
    }
   ],
   "source": [
    "#Question 6\n",
    "\n",
    "def pig(str):\n",
    "    consonants = ('b','c','d','f','g','h','j','k','l','m','n','p','q','r','s','t','v','x','y','z')\n",
    "    vowels = ('a','e','i','o','u')\n",
    "    \n",
    "    if str[0] in consonants:\n",
    "        ch = str[0]\n",
    "        str = str[1:]\n",
    "        str = str + ch + \"ay\"\n",
    "        \n",
    "    else:\n",
    "        str = str + \"way\"\n",
    "        \n",
    "    return str\n",
    "\n",
    "print(pig(\"happy\"))\n",
    "print(pig(\"enter\"))"
   ]
  },
  {
   "cell_type": "markdown",
   "metadata": {},
   "source": [
    "Question 7:<br>\n",
    "<br>\n",
    "File bloodtype1.txt records blood-types of patients (A, B, AB, O or OO) at a clinic. Write a function bldcount() that reads the file with name name and reports (i.e., prints) how many patients there are in each bloodtype."
   ]
  },
  {
   "cell_type": "code",
   "execution_count": 2,
   "metadata": {},
   "outputs": [
    {
     "name": "stdout",
     "output_type": "stream",
     "text": [
      "['AB', 'AB', 'B', 'O', 'A', 'A', 'AB', 'O', 'AB', 'A', 'O', 'O', 'A', 'A', 'A', 'O', 'O', 'O', 'AB', 'O', 'A', 'A', 'A', 'A', 'A', 'AB', 'AB', 'A', 'AB', 'O', 'AB', 'O', 'A', 'O', 'O', 'O', 'AB', 'O', 'AB', 'AB', 'AB', 'A', 'A', 'O']\n",
      "There are 15 patients of blood type A\n",
      "There are 1 patients of blood type B\n",
      "There are 13 patients of blood type AB\n",
      "There are 15 patients of blood type O\n",
      "There are 0 patients of blood type OO\n"
     ]
    }
   ],
   "source": [
    "def bldcount(filename):\n",
    "    \n",
    "    file1 = open(filename, 'r')\n",
    "    words = file1.read().split()\n",
    "    #words = data.split()\n",
    "    \n",
    "    acount = 0\n",
    "    bcount = 0\n",
    "    abcount = 0\n",
    "    ocount = 0\n",
    "    oocount = 0\n",
    "    \n",
    "    print(words)\n",
    "    \n",
    "    for word in words:\n",
    "        if word == 'A':\n",
    "            acount += 1\n",
    "        elif word == 'B':\n",
    "            bcount += 1\n",
    "        elif word == 'AB':\n",
    "            abcount += 1\n",
    "        elif word == 'O':\n",
    "            ocount += 1\n",
    "        elif word == 'OO':\n",
    "            oocount += 1\n",
    "    \n",
    "    file1.close()\n",
    "        \n",
    "    print(\"There are \" + str(acount) + \" patients of blood type A\")\n",
    "    print(\"There are \" + str(bcount) + \" patients of blood type B\")\n",
    "    print(\"There are \" + str(abcount) + \" patients of blood type AB\")\n",
    "    print(\"There are \" + str(ocount) + \" patients of blood type O\")\n",
    "    print(\"There are \" + str(oocount) + \" patients of blood type OO\")\n",
    "    \n",
    "bldcount('bloodtype1.txt')"
   ]
  },
  {
   "cell_type": "markdown",
   "metadata": {},
   "source": [
    "Question 8:<br>\n",
    "<br>\n",
    "Write a function curconv() that takes as input:<br>\n",
    "1. a currency represented using a string (e.g., 'JPY' for the Japanese Yen or 'EUR' for the Euro)<br>\n",
    "2. an amount<br>\n",
    "and then converts and returns the amount in US dollars.<br>"
   ]
  },
  {
   "cell_type": "code",
   "execution_count": 3,
   "metadata": {},
   "outputs": [
    {
     "name": "stdout",
     "output_type": "stream",
     "text": [
      "122.96544\n",
      "1.241401\n"
     ]
    }
   ],
   "source": [
    "def curconv(cur, amount):\n",
    "    \n",
    "    file1 = open('currencies.txt', 'r')\n",
    "    lines = file1.readlines()         #storing all data line-wise in lines\n",
    "    \n",
    "    for line in lines:\n",
    "        words = line.split()          #splitting a line into words\n",
    "        if words[0] == cur:\n",
    "            answer = amount * float(words[1])\n",
    "            \n",
    "    file1.close()        \n",
    "    return answer\n",
    "\n",
    "print(curconv('EUR', 100))\n",
    "print(curconv('JPY', 100))"
   ]
  },
  {
   "cell_type": "markdown",
   "metadata": {},
   "source": [
    "Question 9:<br>\n",
    "\n",
    "Each of the following will cause an exception (an error). Identify what type of exception each will cause:<br>\n",
    "\n",
    "1. Trying to add incompatible variables, as in adding 6 + ‘a’<br>\n",
    "Ans: TypeError. Since both operands are of different types. <br>\n",
    "<br>\n",
    "2. Referring to the 12th item of a list that has only 10 items<br>\n",
    "Ans: IndexError. Since we are accessing an index which is out of range.<br>\n",
    "<br>\n",
    "3. Using a value that is out of range for a function’s input, such as calling math.sqrt(-1.0)<br>\n",
    "Ans: ValueError. Since we are giving input a number which is out of functions's domain.<br>\n",
    "<br>\n",
    "4. Using an undeclared variable, such as print(x) when x has not been defined<br>\n",
    "Ans: NameError. Since x is not defined.<br>\n",
    "<br>\n",
    "5. Trying to open a file that does not exist, such as mistyping the file name or looking in the wrong directory.<br>\n",
    "Ans: FileNotFoundError. Since we are giving input a filename which does not exist, it is not found.<br>"
   ]
  },
  {
   "cell_type": "markdown",
   "metadata": {},
   "source": [
    "Question 10<br>\n",
    "\n",
    "Encryption is the process of hiding the meaning of a text by substituting letters in the message with other letters, according to some system. If the process is successful, no one but the intended recipient can understand the encrypted message.<br> Cryptanalysis refers to attempts to undo the encryption, even if some details of the encryption are unknown (for example, if an encrypted message has been intercepted). The first step of cryptanalysis is often to build up a table of letter frequencies in the encrypted text. Assume that the string letters is already defined as 'abcdefghijklmnopqrstuvwxyz'. \n",
    "\n",
    "Write a function called frequencies() that takes a string as its only parameter, and returns a list of integers, showing the number of times each character appears in the text. Your function may ignore any characters that are not in letters."
   ]
  },
  {
   "cell_type": "markdown",
   "metadata": {},
   "source": [
    "We will use ord() built-in function to get ascii value of character.<br>\n",
    "Documentation: https://docs.python.org/3.9/library/functions.html#ord"
   ]
  },
  {
   "cell_type": "code",
   "execution_count": 4,
   "metadata": {},
   "outputs": [
    {
     "name": "stdout",
     "output_type": "stream",
     "text": [
      "[1, 1, 1, 3, 5, 1, 1, 2, 1, 0, 1, 0, 1, 2, 4, 0, 1, 2, 0, 2, 1, 0, 1, 1, 0, 0]\n",
      "[1, 0, 0, 0, 1, 0, 0, 0, 0, 0, 0, 1, 0, 0, 0, 2, 0, 0, 0, 0, 0, 0, 0, 0, 0, 0]\n"
     ]
    }
   ],
   "source": [
    "def frequencies(str):\n",
    "    \n",
    "    #frequency list of each alphabet\n",
    "    flist = [0,0,0,0,0,0,0,0,0,0,0,0,0,0,0,0,0,0,0,0,0,0,0,0,0,0]\n",
    "    \n",
    "    for ch in str:\n",
    "    \n",
    "        diff = ord(ch) - ord('a')   #ord() is used to get ascii value of letter. \n",
    "        \n",
    "        if diff < 26 and diff > -1:\n",
    "            flist[diff] += 1\n",
    "        \n",
    "    return flist\n",
    "\n",
    "print(frequencies(\"The quick red fox got bored and went home.\"))\n",
    "print(frequencies(\"apple\"))"
   ]
  }
 ],
 "metadata": {
  "kernelspec": {
   "display_name": "Python 3",
   "language": "python",
   "name": "python3"
  },
  "language_info": {
   "codemirror_mode": {
    "name": "ipython",
    "version": 3
   },
   "file_extension": ".py",
   "mimetype": "text/x-python",
   "name": "python",
   "nbconvert_exporter": "python",
   "pygments_lexer": "ipython3",
   "version": "3.8.5"
  }
 },
 "nbformat": 4,
 "nbformat_minor": 4
}
